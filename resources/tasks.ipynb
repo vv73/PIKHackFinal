{
 "cells": [
  {
   "cell_type": "markdown",
   "source": [
    "# Рабочая тетрадь к занятию «Mediapipe. Модуль Hands»"
   ],
   "metadata": {
    "collapsed": false,
    "pycharm": {
     "name": "#%% md\n"
    }
   }
  },
  {
   "cell_type": "markdown",
   "source": [
    "## Задание №1\n",
    "Переделайте программу так, чтобы она брала изображение с камеры и обрабатывала видеопоток"
   ],
   "metadata": {
    "collapsed": false,
    "pycharm": {
     "name": "#%% md\n"
    }
   }
  },
  {
   "cell_type": "markdown",
   "source": [
    "## Задание №2\n",
    "Допишите функцию, которая принимает имя картинки (без папки, только имя) и определяет, есть ли рука на этой картинке\n",
    "\n",
    "![](https://github.com/vv73/HandsMediapipe/raw/master/_common_res/task2.png)\n"
   ],
   "metadata": {
    "collapsed": false,
    "pycharm": {
     "name": "#%% md\n"
    }
   }
  },
  {
   "cell_type": "code",
   "execution_count": null,
   "outputs": [],
   "source": [
    "def hand_detected(pic_name):\n",
    "    # 2. Подготовливаем изображение\n",
    "    cv_mat = cv2.cvtColor(cv2.imread(\"pic_name\"), cv2.COLOR_RGB2BGR)\n",
    "    image = mp.Image(image_format=mp.ImageFormat.SRGB, data=cv_mat)\n",
    "    #...\n",
    "    # Здесь нужно дописать код, который положит в result True или False\n",
    "    #...\n",
    "    return result"
   ],
   "metadata": {
    "collapsed": false,
    "pycharm": {
     "name": "#%%\n"
    }
   }
  },
  {
   "cell_type": "markdown",
   "source": [
    "## Задание №3\n",
    "\n",
    "Напишите программу, которая раскрашивает подушечки пальцев в разные цвета."
   ],
   "metadata": {
    "collapsed": false,
    "pycharm": {
     "name": "#%% md\n"
    }
   }
  },
  {
   "cell_type": "code",
   "execution_count": null,
   "outputs": [],
   "source": [],
   "metadata": {
    "collapsed": false,
    "pycharm": {
     "name": "#%%\n"
    }
   }
  },
  {
   "cell_type": "markdown",
   "source": [
    "## Задание №3 (*)\n",
    "\n",
    "Напишите программу, которая определяет по видео, когда \"видит\" кулак, например рисует окружность вокруг кисти разного цвета, когда кулак сжат и разжат.\n",
    "\n",
    "*Подсказка:* Сжатый кулак близок к минимальной окружности его описывающей. А ее диаметр близок к размеру ладони от ее основания до основания указательного пальца."
   ],
   "metadata": {
    "collapsed": false,
    "pycharm": {
     "name": "#%% md\n"
    }
   }
  },
  {
   "cell_type": "code",
   "execution_count": null,
   "outputs": [],
   "source": [],
   "metadata": {
    "collapsed": false,
    "pycharm": {
     "name": "#%%\n"
    }
   }
  }
 ],
 "metadata": {
  "kernelspec": {
   "display_name": "Python 3",
   "language": "python",
   "name": "python3"
  },
  "language_info": {
   "codemirror_mode": {
    "name": "ipython",
    "version": 2
   },
   "file_extension": ".py",
   "mimetype": "text/x-python",
   "name": "python",
   "nbconvert_exporter": "python",
   "pygments_lexer": "ipython2",
   "version": "2.7.6"
  }
 },
 "nbformat": 4,
 "nbformat_minor": 0
}