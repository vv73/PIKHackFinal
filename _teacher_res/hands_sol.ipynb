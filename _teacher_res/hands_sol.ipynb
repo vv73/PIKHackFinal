{
 "cells": [
  {
   "cell_type": "markdown",
   "source": [
    "# Рабочая тетрадь к занятию «Mediapipe. Модуль Hands»"
   ],
   "metadata": {
    "collapsed": false,
    "pycharm": {
     "name": "#%% md\n"
    }
   }
  },
  {
   "cell_type": "markdown",
   "source": [
    "## Задание №1\n",
    "Переделайте программу так, чтобы она брала изображение с камеры и обрабатывала видеопоток"
   ],
   "metadata": {
    "collapsed": false,
    "pycharm": {
     "name": "#%% md\n"
    }
   }
  },
  {
   "cell_type": "code",
   "execution_count": null,
   "outputs": [],
   "source": [
    "# 0. Импортируем необходимое\n",
    "# из библиотек OpenCV и MediaPipe\n",
    "import cv2\n",
    "import mediapipe as mp\n",
    "from mediapipe.tasks import python\n",
    "from mediapipe.tasks.python import vision\n",
    "# и собственную функцию для рисования\n",
    "from draw_landmarks import draw_landmarks_on_image"
   ],
   "metadata": {
    "collapsed": false,
    "pycharm": {
     "name": "#%%\n"
    }
   }
  },
  {
   "cell_type": "code",
   "execution_count": null,
   "outputs": [],
   "source": [
    "# 1. Создаем и настраиваем детектор\n",
    "base_options = python.BaseOptions(model_asset_path='hand_landmarker.task')\n",
    "options = vision.HandLandmarkerOptions(base_options=base_options,\n",
    "                                       num_hands=2)\n",
    "detector = vision.HandLandmarker.create_from_options(options)"
   ],
   "metadata": {
    "collapsed": false,
    "pycharm": {
     "name": "#%%\n"
    }
   }
  },
  {
   "cell_type": "code",
   "execution_count": null,
   "metadata": {
    "collapsed": true,
    "pycharm": {
     "name": "#%%\n"
    }
   },
   "outputs": [],
   "source": [
    "# 2 Oткрываем видеопоток\n",
    "cap = cv2.VideoCapture(0)\n",
    "if not cap.isOpened():\n",
    "  raise IOError(\"Ошибка видеозахвата!\")\n",
    "\n",
    "key = None\n",
    "# завершить программу можно клавишей ESC\n",
    "while cap.isOpened() and key != 27:\n",
    "    # 2. Подготовливаем изображение\n",
    "    ret, frame = cap.read()\n",
    "    if ret != True:\n",
    "        continue\n",
    "    # Отражаем кадр по горизонтали\n",
    "    frame = frame[:, ::-1, :]\n",
    "    # Перeводим его в формат Mediapipe-изображений\n",
    "    frame = cv2.cvtColor(frame, cv2.COLOR_BGR2RGB)\n",
    "    image = mp.Image(image_format=mp.ImageFormat.SRGB, data=frame)\n",
    "\n",
    "    # 3. Самое главное: РАСПОЗНАЕМ\n",
    "    detection_result = detector.detect(image)\n",
    "\n",
    "    # Отрисовываем результат распознавания\n",
    "    annotated_image = draw_landmarks_on_image(image, detection_result)\n",
    "    cv2.imshow(\"Result\", cv2.cvtColor(annotated_image, cv2.COLOR_RGB2BGR))\n",
    "\n",
    "    # Задерживаем программу до нажатия на кнопку\n",
    "    key = cv2.waitKey(1)\n",
    "cv2.destroyAllWindows()"
   ]
  },
  {
   "cell_type": "markdown",
   "source": [
    "## Задание №2\n",
    "Допишите функцию, которая принимает имя картинки (без папки, только имя) и определяет, есть ли рука на этой картинке\n",
    "\n",
    "![](https://github.com/vv73/HandsMediapipe/raw/master/_common_res/task2.png)"
   ],
   "metadata": {
    "collapsed": false,
    "pycharm": {
     "name": "#%% md\n"
    }
   }
  },
  {
   "cell_type": "code",
   "execution_count": null,
   "outputs": [],
   "source": [
    "def hand_detected(pic_name):\n",
    "    # 2. Подготовливаем изображение\n",
    "    cv_mat = cv2.cvtColor(cv2.imread(pic_name), cv2.COLOR_RGB2BGR)\n",
    "    image = mp.Image(image_format=mp.ImageFormat.SRGB, data=cv_mat)\n",
    "    # 3. Самое главное: РАСПОЗНАЕМ\n",
    "    detection_result = detector.detect(image)\n",
    "    result = False\n",
    "    if len(detection_result.handedness) > 0:\n",
    "        result = True\n",
    "    return result"
   ],
   "metadata": {
    "collapsed": false,
    "pycharm": {
     "name": "#%%\n"
    }
   }
  },
  {
   "cell_type": "markdown",
   "source": [
    "Запустите ячейку выше, а затем ниже, чтобы протестировать свое решение"
   ],
   "metadata": {
    "collapsed": false,
    "pycharm": {
     "name": "#%% md\n"
    }
   }
  },
  {
   "cell_type": "code",
   "execution_count": null,
   "outputs": [],
   "source": [
    "# У учащихся просто \"test/...\"\n",
    "if not hand_detected(\"../test/no_hand1.png\") and hand_detected(\"../test/hand1.png\"):\n",
    "    print(\"OK\")\n",
    "else:\n",
    "    print(\"Что-то неправильно...\")"
   ],
   "metadata": {
    "collapsed": false,
    "pycharm": {
     "name": "#%%\n"
    }
   }
  },
  {
   "cell_type": "markdown",
   "source": [
    "## Задание №3\n",
    "\n",
    "Напишите программу, которая раскрашивает подушечки пальцев в разные цвета."
   ],
   "metadata": {
    "collapsed": false,
    "pycharm": {
     "name": "#%% md\n"
    }
   }
  },
  {
   "cell_type": "code",
   "execution_count": 1,
   "outputs": [],
   "source": [
    "# 0. Импортируем необходимое\n",
    "# из библиотек OpenCV и MediaPipe\n",
    "import cv2\n",
    "import mediapipe as mp\n",
    "from mediapipe.tasks import python\n",
    "from mediapipe.tasks.python import vision\n",
    "# и собственную функцию для рисования\n",
    "from draw_landmarks import draw_landmarks_on_image\n",
    "\n",
    "# 1. Создаем и настраиваем детектор\n",
    "base_options = python.BaseOptions(model_asset_path='hand_landmarker.task')\n",
    "options = vision.HandLandmarkerOptions(base_options=base_options,\n",
    "                                       num_hands=2)\n",
    "detector = vision.HandLandmarker.create_from_options(options)\n",
    "\n",
    "# 2 открываем видеопоток\n",
    "cap = cv2.VideoCapture(0)\n",
    "if not cap.isOpened():\n",
    "  raise IOError(\"Ошибка видеозахвата!\")\n",
    "\n",
    "# Определяем цвета\n",
    "colors = [(255, 0, 0), (0, 255, 0), (0, 0, 255), (255, 255, 0), (255, 0, 255)]\n",
    "# Индексы подушечек (вообще, есть закономерность, но списком понятнее)\n",
    "fingers = [4, 8, 12, 16, 20]\n",
    "\n",
    "key = None\n",
    "# завершить программу можно клавишей ESC\n",
    "while cap.isOpened() and key != 27:\n",
    "    # 2. Подготовливаем изображение\n",
    "    ret, frame = cap.read()\n",
    "    if ret != True:\n",
    "        continue\n",
    "    # Отражаем кадр по горизонтали\n",
    "    frame = frame[:, ::-1, :]\n",
    "    # Перeводим его в формат Mediapipe-изображений\n",
    "    frame = cv2.cvtColor(frame, cv2.COLOR_BGR2RGB)\n",
    "    image = mp.Image(image_format=mp.ImageFormat.SRGB, data=frame)\n",
    "    # 3. Самое главное: РАСПОЗНАЕМ\n",
    "    detection_result = detector.detect(image)\n",
    "\n",
    "    if len(detection_result.hand_landmarks) > 0:\n",
    "        for i in range(5):\n",
    "        # нужно умножить координаты на размеры картинки\n",
    "            x_tip = int(detection_result.hand_landmarks[0][fingers[i]].x *\n",
    "                        image.width)\n",
    "            y_tip = int(detection_result.hand_landmarks[0][fingers[i]].y *\n",
    "                        image.height)\n",
    "            # рисуем кружок\n",
    "            cv2.circle(frame, (x_tip, y_tip), 10, colors[i], -1)\n",
    "    # переводим обратно в BGR и показываем\n",
    "    frame = cv2.cvtColor(frame, cv2.COLOR_RGB2BGR)\n",
    "    cv2.imshow(\"Example\", frame)\n",
    "\n",
    "     #Задерживаем программу до нажатия на кнопку\n",
    "    key = cv2.waitKey(1)\n",
    "cv2.destroyAllWindows()"
   ],
   "metadata": {
    "collapsed": false,
    "pycharm": {
     "name": "#%%\n"
    }
   }
  },
  {
   "cell_type": "markdown",
   "source": [
    "## Задание №3 (*)\n",
    "\n",
    "Напишите программу, которая определяет по видео, когда \"видит\" кулак, например рисует окружность вокруг кисти разного цвета, когда кулак сжат и разжат."
   ],
   "metadata": {
    "collapsed": false,
    "pycharm": {
     "name": "#%% md\n"
    }
   }
  },
  {
   "cell_type": "code",
   "execution_count": null,
   "outputs": [],
   "source": [
    "# 0. Импортируем необходимое\n",
    "# из библиотек OpenCV и MediaPipe\n",
    "import cv2\n",
    "import mediapipe as mp\n",
    "from mediapipe.tasks import python\n",
    "from mediapipe.tasks.python import vision\n",
    "import numpy as np\n",
    "\n",
    "def get_points(landmark, shape):\n",
    "    points = []\n",
    "    for mark in landmark:\n",
    "        points.append([mark.x * shape[1], mark.y * shape[0]])\n",
    "    return np.array(points, dtype=np.int32)\n",
    "\n",
    "def palm_size(landmark, shape):\n",
    "    x1, y1 = landmark[0].x * shape[1], landmark[0].y * shape[0]\n",
    "    x2, y2 = landmark[5].x * shape[1], landmark[5].y * shape[0]\n",
    "    return ((x1 - x2)**2 + (y1 - y2) **2) **.5\n",
    "\n",
    "# 1. Создаем и настраиваем детектор\n",
    "base_options = python.BaseOptions(model_asset_path='hand_landmarker.task')\n",
    "options = vision.HandLandmarkerOptions(base_options=base_options,\n",
    "                                       num_hands=2)\n",
    "detector = vision.HandLandmarker.create_from_options(options)\n",
    "\n",
    "cap = cv2.VideoCapture(0)\n",
    "\n",
    "while(cap.isOpened()):\n",
    "    ret, frame = cap.read()\n",
    "    if cv2.waitKey(1) & 0xFF == ord('q') or not ret:\n",
    "        break\n",
    "    flipped = np.fliplr(frame)\n",
    "    # переводим его в формат RGB для распознавания\n",
    "    cv_mat = cv2.cvtColor(flipped, cv2.COLOR_BGR2RGB)\n",
    "    image = mp.Image(image_format=mp.ImageFormat.SRGB, data=cv_mat)\n",
    "    # Распознаем\n",
    "    results = detector.detect(image)\n",
    "    # Рисуем распознанное, если распозналось\n",
    "    if len(results.hand_landmarks) > 0:\n",
    "         #cv2.drawContours(flipped, [get_points(results.hand_landmarks[0], cv_mat.shape)], 0, (255, 0, 0), 2)\n",
    "         (x, y), r = cv2.minEnclosingCircle(get_points(results.hand_landmarks[0], cv_mat.shape))\n",
    "         ws = palm_size(results.hand_landmarks[0], cv_mat.shape)\n",
    "         print(2 * r / ws)\n",
    "\n",
    "         # Коэффициент 1.3 следует подобрать\n",
    "         if 2 * r / ws > 1.3:\n",
    "             cv2.circle(cv_mat,(int(x), int(y)), int(r), (0, 0, 255), 2)\n",
    "         else:\n",
    "             cv2.circle(cv_mat,(int(x), int(y)), int(r), (0, 255, 0), 2)\n",
    "\n",
    "\n",
    "    # переводим в BGR и показываем результат\n",
    "    res_image = cv2.cvtColor(cv_mat, cv2.COLOR_RGB2BGR)\n",
    "    cv2.imshow(\"Hands\", res_image)\n",
    "\n",
    "# освобождаем ресурсы\n",
    "detector.close()"
   ],
   "metadata": {
    "collapsed": false,
    "pycharm": {
     "name": "#%%\n"
    }
   }
  }
 ],
 "metadata": {
  "kernelspec": {
   "display_name": "Python 3",
   "language": "python",
   "name": "python3"
  },
  "language_info": {
   "codemirror_mode": {
    "name": "ipython",
    "version": 2
   },
   "file_extension": ".py",
   "mimetype": "text/x-python",
   "name": "python",
   "nbconvert_exporter": "python",
   "pygments_lexer": "ipython2",
   "version": "2.7.6"
  }
 },
 "nbformat": 4,
 "nbformat_minor": 0
}